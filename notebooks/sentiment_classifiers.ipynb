{
 "cells": [
  {
   "cell_type": "code",
   "execution_count": 3,
   "metadata": {},
   "outputs": [],
   "source": [
    "%reload_ext autoreload\n",
    "%autoreload 2\n",
    "import sys\n",
    "from dotenv import load_dotenv\n",
    "import os\n",
    "load_dotenv()\n",
    "\n",
    "ROOT = os.getenv(\"ROOT\")\n",
    "sys.path.append(ROOT)\n",
    "assert ROOT is not None, \"Please create a .env file and specify your ROOT path.\"\n",
    "from src.data_loader import load_reviews\n",
    "from src.processing import reviews_processing"
   ]
  },
  {
   "cell_type": "code",
   "execution_count": 4,
   "metadata": {},
   "outputs": [
    {
     "data": {
      "text/html": [
       "<pre style=\"white-space:pre;overflow-x:auto;line-height:normal;font-family:Menlo,'DejaVu Sans Mono',consolas,'Courier New',monospace\"><span style=\"color: #00ff00; text-decoration-color: #00ff00; font-weight: bold\">[</span><span style=\"color: #008080; text-decoration-color: #008080; font-weight: bold\">16</span><span style=\"color: #00ff00; text-decoration-color: #00ff00\">:</span><span style=\"color: #008080; text-decoration-color: #008080; font-weight: bold\">57</span><span style=\"color: #00ff00; text-decoration-color: #00ff00\">:</span><span style=\"color: #008080; text-decoration-color: #008080; font-weight: bold\">10</span><span style=\"color: #00ff00; text-decoration-color: #00ff00; font-weight: bold\">]</span><span style=\"color: #000080; text-decoration-color: #000080\"> | INFO</span><span style=\"color: #c0c0c0; text-decoration-color: #c0c0c0\">  | loaded </span><span style=\"color: #008080; text-decoration-color: #008080; font-weight: bold\">7015</span><span style=\"color: #c0c0c0; text-decoration-color: #c0c0c0\"> rows</span>                                                             <a href=\"file:///Users/lucanyckees/Desktop/my-repos/recommendation_system/src/data_loader.py\" target=\"_blank\"><span style=\"color: #7f7f7f; text-decoration-color: #7f7f7f\">data_loader.py</span></a><span style=\"color: #7f7f7f; text-decoration-color: #7f7f7f\">:</span><a href=\"file:///Users/lucanyckees/Desktop/my-repos/recommendation_system/src/data_loader.py#18\" target=\"_blank\"><span style=\"color: #7f7f7f; text-decoration-color: #7f7f7f\">18</span></a>\n",
       "</pre>\n"
      ],
      "text/plain": [
       "\u001b[1;92m[\u001b[0m\u001b[1;36m16\u001b[0m\u001b[92m:\u001b[0m\u001b[1;36m57\u001b[0m\u001b[92m:\u001b[0m\u001b[1;36m10\u001b[0m\u001b[1;92m]\u001b[0m\u001b[34m | INFO\u001b[0m\u001b[37m  | loaded \u001b[0m\u001b[1;36m7015\u001b[0m\u001b[37m rows\u001b[0m                                                             \u001b]8;id=82722;file:///Users/lucanyckees/Desktop/my-repos/recommendation_system/src/data_loader.py\u001b\\\u001b[2mdata_loader.py\u001b[0m\u001b]8;;\u001b\\\u001b[2m:\u001b[0m\u001b]8;id=996397;file:///Users/lucanyckees/Desktop/my-repos/recommendation_system/src/data_loader.py#18\u001b\\\u001b[2m18\u001b[0m\u001b]8;;\u001b\\\n"
      ]
     },
     "metadata": {},
     "output_type": "display_data"
    }
   ],
   "source": [
    "df = load_reviews(category=\"All_beauty\", frac=0.01)\n",
    "df = reviews_processing(df=df, clean_text=False)\n",
    "sub = df.rename(columns={\"rating\": \"label\", \"review_input\": \"text\"})[[\"label\", \"text\"]]"
   ]
  },
  {
   "cell_type": "code",
   "execution_count": 7,
   "metadata": {},
   "outputs": [],
   "source": [
    "def map_rating_to_sentiment(rating: float, min_rating: float = 1.0, max_rating: float = 5.0) -> str:\n",
    "    threshold_rating = (max_rating + min_rating) / 2\n",
    "    if rating < threshold_rating:\n",
    "        return \"negative\"\n",
    "    elif rating > threshold_rating:\n",
    "        return \"positive\"\n",
    "    else:\n",
    "        return \"neutral\"\n",
    "\n",
    "df[\"sentiment\"] = df[\"rating\"].apply(lambda x: map_rating_to_sentiment(rating=x))"
   ]
  },
  {
   "cell_type": "code",
   "execution_count": 8,
   "metadata": {},
   "outputs": [
    {
     "name": "stderr",
     "output_type": "stream",
     "text": [
      "Matplotlib is building the font cache; this may take a moment.\n"
     ]
    },
    {
     "data": {
      "text/plain": [
       "<Axes: >"
      ]
     },
     "execution_count": 8,
     "metadata": {},
     "output_type": "execute_result"
    },
    {
     "data": {
      "image/png": "[encoded data removed]",
      "text/plain": [
       "<Figure size 640x480 with 1 Axes>"
      ]
     },
     "metadata": {},
     "output_type": "display_data"
    }
   ],
   "source": [
    "df[\"sentiment\"].hist()"
   ]
  },
  {
   "cell_type": "code",
   "execution_count": null,
   "metadata": {},
   "outputs": [],
   "source": []
  }
 ],
 "metadata": {
  "kernelspec": {
   "display_name": "venv",
   "language": "python",
   "name": "python3"
  },
  "language_info": {
   "codemirror_mode": {
    "name": "ipython",
    "version": 3
   },
   "file_extension": ".py",
   "mimetype": "text/x-python",
   "name": "python",
   "nbconvert_exporter": "python",
   "pygments_lexer": "ipython3",
   "version": "3.10.0"
  }
 },
 "nbformat": 4,
 "nbformat_minor": 2
}
