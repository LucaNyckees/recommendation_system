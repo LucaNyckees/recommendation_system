{
 "cells": [
  {
   "cell_type": "code",
   "execution_count": 51,
   "metadata": {},
   "outputs": [],
   "source": [
    "%reload_ext autoreload\n",
    "%autoreload 2\n",
    "import sys\n",
    "from dotenv import load_dotenv\n",
    "import os\n",
    "import psycopg\n",
    "load_dotenv()\n",
    "\n",
    "ROOT = os.getenv(\"ROOT\")\n",
    "sys.path.append(ROOT)\n",
    "from src.paths import DATA_PATH\n",
    "from src.database.connection import connect\n",
    "from src.database.db_functions import get_amazon_dataframe"
   ]
  },
  {
   "cell_type": "code",
   "execution_count": 52,
   "metadata": {},
   "outputs": [],
   "source": [
    "with connect(db_key=\"main\") as conn:\n",
    "    with conn.cursor() as cur:\n",
    "        df = get_amazon_dataframe(cur=cur, categories=None, limit=10000)"
   ]
  },
  {
   "cell_type": "code",
   "execution_count": 55,
   "metadata": {},
   "outputs": [
    {
     "data": {
      "text/html": [
       "<div>\n",
       "<style scoped>\n",
       "    .dataframe tbody tr th:only-of-type {\n",
       "        vertical-align: middle;\n",
       "    }\n",
       "\n",
       "    .dataframe tbody tr th {\n",
       "        vertical-align: top;\n",
       "    }\n",
       "\n",
       "    .dataframe thead th {\n",
       "        text-align: right;\n",
       "    }\n",
       "</style>\n",
       "<table border=\"1\" class=\"dataframe\">\n",
       "  <thead>\n",
       "    <tr style=\"text-align: right;\">\n",
       "      <th></th>\n",
       "      <th>average_rating</th>\n",
       "      <th>rating_number</th>\n",
       "      <th>price</th>\n",
       "      <th>id</th>\n",
       "      <th>rating</th>\n",
       "      <th>helpful_vote</th>\n",
       "    </tr>\n",
       "  </thead>\n",
       "  <tbody>\n",
       "    <tr>\n",
       "      <th>count</th>\n",
       "      <td>10000.000000</td>\n",
       "      <td>10000.000000</td>\n",
       "      <td>2657.000000</td>\n",
       "      <td>10000.000000</td>\n",
       "      <td>10000.00000</td>\n",
       "      <td>10000.000000</td>\n",
       "    </tr>\n",
       "    <tr>\n",
       "      <th>mean</th>\n",
       "      <td>4.048480</td>\n",
       "      <td>572.358600</td>\n",
       "      <td>21.657881</td>\n",
       "      <td>15359.596800</td>\n",
       "      <td>4.07030</td>\n",
       "      <td>1.034700</td>\n",
       "    </tr>\n",
       "    <tr>\n",
       "      <th>std</th>\n",
       "      <td>0.569847</td>\n",
       "      <td>1490.884926</td>\n",
       "      <td>26.236433</td>\n",
       "      <td>4964.942213</td>\n",
       "      <td>1.37337</td>\n",
       "      <td>5.833052</td>\n",
       "    </tr>\n",
       "    <tr>\n",
       "      <th>min</th>\n",
       "      <td>1.000000</td>\n",
       "      <td>1.000000</td>\n",
       "      <td>1.200000</td>\n",
       "      <td>10124.000000</td>\n",
       "      <td>1.00000</td>\n",
       "      <td>0.000000</td>\n",
       "    </tr>\n",
       "    <tr>\n",
       "      <th>25%</th>\n",
       "      <td>3.700000</td>\n",
       "      <td>23.000000</td>\n",
       "      <td>9.990000</td>\n",
       "      <td>12631.750000</td>\n",
       "      <td>3.00000</td>\n",
       "      <td>0.000000</td>\n",
       "    </tr>\n",
       "    <tr>\n",
       "      <th>50%</th>\n",
       "      <td>4.100000</td>\n",
       "      <td>95.000000</td>\n",
       "      <td>15.870000</td>\n",
       "      <td>15131.500000</td>\n",
       "      <td>5.00000</td>\n",
       "      <td>0.000000</td>\n",
       "    </tr>\n",
       "    <tr>\n",
       "      <th>75%</th>\n",
       "      <td>4.500000</td>\n",
       "      <td>373.000000</td>\n",
       "      <td>24.900000</td>\n",
       "      <td>17636.250000</td>\n",
       "      <td>5.00000</td>\n",
       "      <td>1.000000</td>\n",
       "    </tr>\n",
       "    <tr>\n",
       "      <th>max</th>\n",
       "      <td>5.000000</td>\n",
       "      <td>15264.000000</td>\n",
       "      <td>477.060000</td>\n",
       "      <td>98782.000000</td>\n",
       "      <td>5.00000</td>\n",
       "      <td>419.000000</td>\n",
       "    </tr>\n",
       "  </tbody>\n",
       "</table>\n",
       "</div>"
      ],
      "text/plain": [
       "       average_rating  rating_number        price            id       rating  \\\n",
       "count    10000.000000   10000.000000  2657.000000  10000.000000  10000.00000   \n",
       "mean         4.048480     572.358600    21.657881  15359.596800      4.07030   \n",
       "std          0.569847    1490.884926    26.236433   4964.942213      1.37337   \n",
       "min          1.000000       1.000000     1.200000  10124.000000      1.00000   \n",
       "25%          3.700000      23.000000     9.990000  12631.750000      3.00000   \n",
       "50%          4.100000      95.000000    15.870000  15131.500000      5.00000   \n",
       "75%          4.500000     373.000000    24.900000  17636.250000      5.00000   \n",
       "max          5.000000   15264.000000   477.060000  98782.000000      5.00000   \n",
       "\n",
       "       helpful_vote  \n",
       "count  10000.000000  \n",
       "mean       1.034700  \n",
       "std        5.833052  \n",
       "min        0.000000  \n",
       "25%        0.000000  \n",
       "50%        0.000000  \n",
       "75%        1.000000  \n",
       "max      419.000000  "
      ]
     },
     "execution_count": 55,
     "metadata": {},
     "output_type": "execute_result"
    }
   ],
   "source": [
    "df.describe()"
   ]
  },
  {
   "cell_type": "code",
   "execution_count": 61,
   "metadata": {},
   "outputs": [
    {
     "data": {
      "text/plain": [
       "<Axes: >"
      ]
     },
     "execution_count": 61,
     "metadata": {},
     "output_type": "execute_result"
    },
    {
     "data": {
      "image/png": "[encoded data removed]",
      "text/plain": [
       "<Figure size 640x480 with 1 Axes>"
      ]
     },
     "metadata": {},
     "output_type": "display_data"
    }
   ],
   "source": [
    "df[\"price\"].hist(bins=100)"
   ]
  },
  {
   "cell_type": "code",
   "execution_count": null,
   "metadata": {},
   "outputs": [],
   "source": []
  }
 ],
 "metadata": {
  "kernelspec": {
   "display_name": "venv",
   "language": "python",
   "name": "python3"
  },
  "language_info": {
   "codemirror_mode": {
    "name": "ipython",
    "version": 3
   },
   "file_extension": ".py",
   "mimetype": "text/x-python",
   "name": "python",
   "nbconvert_exporter": "python",
   "pygments_lexer": "ipython3",
   "version": "3.10.0"
  }
 },
 "nbformat": 4,
 "nbformat_minor": 2
}
