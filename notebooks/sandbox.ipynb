{
 "cells": [
  {
   "cell_type": "code",
   "execution_count": 8,
   "metadata": {},
   "outputs": [],
   "source": [
    "%reload_ext autoreload\n",
    "%autoreload 2\n",
    "import sys\n",
    "from dotenv import load_dotenv\n",
    "import os\n",
    "load_dotenv()\n",
    "\n",
    "ROOT = os.getenv(\"ROOT\")\n",
    "sys.path.append(ROOT)\n",
    "\n",
    "from rich.progress import track\n",
    "from transformers import AutoTokenizer\n",
    "from src.nlp.regressor import BertRegressorPipeline, ReviewsDataset\n",
    "from src.data_loader import load_reviews\n",
    "from src.processing import process_reviews"
   ]
  },
  {
   "cell_type": "code",
   "execution_count": 4,
   "metadata": {},
   "outputs": [
    {
     "data": {
      "text/html": [
       "<pre style=\"white-space:pre;overflow-x:auto;line-height:normal;font-family:Menlo,'DejaVu Sans Mono',consolas,'Courier New',monospace\"><span style=\"color: #00ff00; text-decoration-color: #00ff00; font-weight: bold\">[</span><span style=\"color: #008080; text-decoration-color: #008080; font-weight: bold\">12</span><span style=\"color: #00ff00; text-decoration-color: #00ff00\">:</span><span style=\"color: #008080; text-decoration-color: #008080; font-weight: bold\">32</span><span style=\"color: #00ff00; text-decoration-color: #00ff00\">:</span><span style=\"color: #008080; text-decoration-color: #008080; font-weight: bold\">17</span><span style=\"color: #00ff00; text-decoration-color: #00ff00; font-weight: bold\">]</span><span style=\"color: #000080; text-decoration-color: #000080\"> | INFO</span><span style=\"color: #c0c0c0; text-decoration-color: #c0c0c0\">  | loaded </span><span style=\"color: #008080; text-decoration-color: #008080; font-weight: bold\">702</span><span style=\"color: #c0c0c0; text-decoration-color: #c0c0c0\"> rows</span>                                                              <a href=\"file:///Users/lucanyckees/Desktop/my-repos/recommendation_system/src/data_loader.py\" target=\"_blank\"><span style=\"color: #7f7f7f; text-decoration-color: #7f7f7f\">data_loader.py</span></a><span style=\"color: #7f7f7f; text-decoration-color: #7f7f7f\">:</span><a href=\"file:///Users/lucanyckees/Desktop/my-repos/recommendation_system/src/data_loader.py#18\" target=\"_blank\"><span style=\"color: #7f7f7f; text-decoration-color: #7f7f7f\">18</span></a>\n",
       "</pre>\n"
      ],
      "text/plain": [
       "\u001b[1;92m[\u001b[0m\u001b[1;36m12\u001b[0m\u001b[92m:\u001b[0m\u001b[1;36m32\u001b[0m\u001b[92m:\u001b[0m\u001b[1;36m17\u001b[0m\u001b[1;92m]\u001b[0m\u001b[34m | INFO\u001b[0m\u001b[37m  | loaded \u001b[0m\u001b[1;36m702\u001b[0m\u001b[37m rows\u001b[0m                                                              \u001b]8;id=163277;file:///Users/lucanyckees/Desktop/my-repos/recommendation_system/src/data_loader.py\u001b\\\u001b[2mdata_loader.py\u001b[0m\u001b]8;;\u001b\\\u001b[2m:\u001b[0m\u001b]8;id=523620;file:///Users/lucanyckees/Desktop/my-repos/recommendation_system/src/data_loader.py#18\u001b\\\u001b[2m18\u001b[0m\u001b]8;;\u001b\\\n"
      ]
     },
     "metadata": {},
     "output_type": "display_data"
    }
   ],
   "source": [
    "df = load_reviews(category=\"All_beauty\", frac=0.001)\n",
    "df = process_reviews(df=df, clean_text=False)\n",
    "sub = df.rename(columns={\"rating\": \"target\", \"review_input\": \"text\"})[[\"target\", \"text\"]]"
   ]
  },
  {
   "cell_type": "code",
   "execution_count": 5,
   "metadata": {},
   "outputs": [],
   "source": [
    "tokenizer = AutoTokenizer.from_pretrained(\n",
    "    \"bert-base-uncased\",\n",
    "    max_length=512,\n",
    "    truncation=True,\n",
    "    clean_up_tokenization_spaces=False,\n",
    ")"
   ]
  },
  {
   "cell_type": "code",
   "execution_count": 13,
   "metadata": {},
   "outputs": [
    {
     "data": {
      "text/html": [
       "<pre style=\"white-space:pre;overflow-x:auto;line-height:normal;font-family:Menlo,'DejaVu Sans Mono',consolas,'Courier New',monospace\">/Users/lucanyckees/Desktop/my-repos/recommendation_system/venv/lib/python3.11/site-packages/rich/live.py:231: \n",
       "UserWarning: install \"ipywidgets\" for Jupyter support\n",
       "  warnings.warn('install \"ipywidgets\" for Jupyter support')\n",
       "</pre>\n"
      ],
      "text/plain": [
       "/Users/lucanyckees/Desktop/my-repos/recommendation_system/venv/lib/python3.11/site-packages/rich/live.py:231: \n",
       "UserWarning: install \"ipywidgets\" for Jupyter support\n",
       "  warnings.warn('install \"ipywidgets\" for Jupyter support')\n"
      ]
     },
     "metadata": {},
     "output_type": "display_data"
    },
    {
     "data": {
      "text/html": [
       "<pre style=\"white-space:pre;overflow-x:auto;line-height:normal;font-family:Menlo,'DejaVu Sans Mono',consolas,'Courier New',monospace\">len(tokens): 628, updating tokens\n",
       "</pre>\n"
      ],
      "text/plain": [
       "len(tokens): 628, updating tokens\n"
      ]
     },
     "metadata": {},
     "output_type": "display_data"
    },
    {
     "data": {
      "text/html": [
       "<pre style=\"white-space:pre;overflow-x:auto;line-height:normal;font-family:Menlo,'DejaVu Sans Mono',consolas,'Courier New',monospace\">&gt;&gt;&gt; len(tokens): 512\n",
       "</pre>\n"
      ],
      "text/plain": [
       ">>> len(tokens): 512\n"
      ]
     },
     "metadata": {},
     "output_type": "display_data"
    },
    {
     "data": {
      "text/html": [
       "<pre style=\"white-space:pre;overflow-x:auto;line-height:normal;font-family:Menlo,'DejaVu Sans Mono',consolas,'Courier New',monospace\">len(tokens): 646, updating tokens\n",
       "</pre>\n"
      ],
      "text/plain": [
       "len(tokens): 646, updating tokens\n"
      ]
     },
     "metadata": {},
     "output_type": "display_data"
    },
    {
     "data": {
      "text/html": [
       "<pre style=\"white-space:pre;overflow-x:auto;line-height:normal;font-family:Menlo,'DejaVu Sans Mono',consolas,'Courier New',monospace\">&gt;&gt;&gt; len(tokens): 512\n",
       "</pre>\n"
      ],
      "text/plain": [
       ">>> len(tokens): 512\n"
      ]
     },
     "metadata": {},
     "output_type": "display_data"
    },
    {
     "data": {
      "text/html": [
       "<pre style=\"white-space:pre;overflow-x:auto;line-height:normal;font-family:Menlo,'DejaVu Sans Mono',consolas,'Courier New',monospace\">len(tokens): 1082, updating tokens\n",
       "</pre>\n"
      ],
      "text/plain": [
       "len(tokens): 1082, updating tokens\n"
      ]
     },
     "metadata": {},
     "output_type": "display_data"
    },
    {
     "data": {
      "text/html": [
       "<pre style=\"white-space:pre;overflow-x:auto;line-height:normal;font-family:Menlo,'DejaVu Sans Mono',consolas,'Courier New',monospace\">&gt;&gt;&gt; len(tokens): 512\n",
       "</pre>\n"
      ],
      "text/plain": [
       ">>> len(tokens): 512\n"
      ]
     },
     "metadata": {},
     "output_type": "display_data"
    },
    {
     "data": {
      "text/html": [
       "<pre style=\"white-space:pre;overflow-x:auto;line-height:normal;font-family:Menlo,'DejaVu Sans Mono',consolas,'Courier New',monospace\"></pre>\n"
      ],
      "text/plain": []
     },
     "metadata": {},
     "output_type": "display_data"
    },
    {
     "name": "stdout",
     "output_type": "stream",
     "text": [
      "3\n"
     ]
    }
   ],
   "source": [
    "count = 0\n",
    "\n",
    "for index, r in track(sub.iterrows(), description=\"tokenizing\"):\n",
    "    tokens = tokenizer.tokenize(r[\"text\"])\n",
    "    tokens = [\"[CLS]\"] + tokens + [\"[SEP]\"]\n",
    "    if len(tokens) < 512:\n",
    "        tokens = tokens + [\"[PAD]\" for _ in range(512 - len(tokens))]\n",
    "    else:\n",
    "        count += 1\n",
    "        print(f\"len(tokens): {len(tokens)}, updating tokens\")\n",
    "        tokens = tokens[: 512 - 1] + [\"[SEP]\"]\n",
    "        print(f\">>> len(tokens): {len(tokens)}\")\n",
    "        \n",
    "print(count)"
   ]
  },
  {
   "cell_type": "code",
   "execution_count": null,
   "metadata": {},
   "outputs": [],
   "source": []
  }
 ],
 "metadata": {
  "kernelspec": {
   "display_name": "venv",
   "language": "python",
   "name": "python3"
  },
  "language_info": {
   "codemirror_mode": {
    "name": "ipython",
    "version": 3
   },
   "file_extension": ".py",
   "mimetype": "text/x-python",
   "name": "python",
   "nbconvert_exporter": "python",
   "pygments_lexer": "ipython3",
   "version": "3.11.7"
  }
 },
 "nbformat": 4,
 "nbformat_minor": 2
}
