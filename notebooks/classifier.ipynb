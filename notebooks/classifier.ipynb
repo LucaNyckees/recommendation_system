{
 "cells": [
  {
   "cell_type": "code",
   "execution_count": 4,
   "metadata": {},
   "outputs": [],
   "source": [
    "%reload_ext autoreload\n",
    "%autoreload 2\n",
    "import sys\n",
    "from dotenv import load_dotenv\n",
    "import os\n",
    "load_dotenv()\n",
    "\n",
    "ROOT = os.getenv(\"ROOT\")\n",
    "sys.path.append(ROOT)\n",
    "from src.data_loader import load_reviews\n",
    "from src.processing import reviews_processing\n",
    "from src.nlp.classifier import BERTClassifier"
   ]
  },
  {
   "cell_type": "code",
   "execution_count": 5,
   "metadata": {},
   "outputs": [],
   "source": [
    "df = load_reviews(category=\"All_beauty\", frac=0.01)\n",
    "df = reviews_processing(df=df, clean_text=False)\n",
    "sub = df.rename(columns={\"rating\": \"label\", \"review_input\": \"text\"})[[\"label\", \"text\"]]"
   ]
  },
  {
   "cell_type": "code",
   "execution_count": 6,
   "metadata": {},
   "outputs": [
    {
     "name": "stderr",
     "output_type": "stream",
     "text": [
      "Map: 100%|██████████| 5612/5612 [00:00<00:00, 12657.92 examples/s]\n",
      "Map: 100%|██████████| 701/701 [00:00<00:00, 12145.85 examples/s]\n",
      "Map: 100%|██████████| 702/702 [00:00<00:00, 12237.03 examples/s]\n"
     ]
    },
    {
     "data": {
      "text/html": [
       "<pre style=\"white-space:pre;overflow-x:auto;line-height:normal;font-family:Menlo,'DejaVu Sans Mono',consolas,'Courier New',monospace\"><span style=\"color: #00ff00; text-decoration-color: #00ff00; font-weight: bold\">[</span><span style=\"color: #008080; text-decoration-color: #008080; font-weight: bold\">12</span><span style=\"color: #00ff00; text-decoration-color: #00ff00\">:</span><span style=\"color: #008080; text-decoration-color: #008080; font-weight: bold\">41</span><span style=\"color: #00ff00; text-decoration-color: #00ff00\">:</span><span style=\"color: #008080; text-decoration-color: #008080; font-weight: bold\">16</span><span style=\"color: #00ff00; text-decoration-color: #00ff00; font-weight: bold\">]</span><span style=\"color: #000080; text-decoration-color: #000080\"> | INFO</span><span style=\"color: #c0c0c0; text-decoration-color: #c0c0c0\">  | split : </span><span style=\"color: #c0c0c0; text-decoration-color: #c0c0c0; font-weight: bold\">{</span><span style=\"color: #c0c0c0; text-decoration-color: #c0c0c0\">'train_set': </span><span style=\"color: #008080; text-decoration-color: #008080; font-weight: bold\">5612</span><span style=\"color: #c0c0c0; text-decoration-color: #c0c0c0\">, 'eval_set': </span><span style=\"color: #008080; text-decoration-color: #008080; font-weight: bold\">701</span><span style=\"color: #c0c0c0; text-decoration-color: #c0c0c0\">, 'test_set': </span><span style=\"color: #008080; text-decoration-color: #008080; font-weight: bold\">702</span><span style=\"color: #c0c0c0; text-decoration-color: #c0c0c0; font-weight: bold\">}</span>                 <a href=\"file:///Users/lucanyckees/Desktop/my-repos/recommendation_system/src/nlp/classifier.py\" target=\"_blank\"><span style=\"color: #7f7f7f; text-decoration-color: #7f7f7f\">classifier.py</span></a><span style=\"color: #7f7f7f; text-decoration-color: #7f7f7f\">:</span><a href=\"file:///Users/lucanyckees/Desktop/my-repos/recommendation_system/src/nlp/classifier.py#92\" target=\"_blank\"><span style=\"color: #7f7f7f; text-decoration-color: #7f7f7f\">92</span></a>\n",
       "</pre>\n"
      ],
      "text/plain": [
       "\u001b[1;92m[\u001b[0m\u001b[1;36m12\u001b[0m\u001b[92m:\u001b[0m\u001b[1;36m41\u001b[0m\u001b[92m:\u001b[0m\u001b[1;36m16\u001b[0m\u001b[1;92m]\u001b[0m\u001b[34m | INFO\u001b[0m\u001b[37m  | split : \u001b[0m\u001b[1;37m{\u001b[0m\u001b[37m'train_set': \u001b[0m\u001b[1;36m5612\u001b[0m\u001b[37m, 'eval_set': \u001b[0m\u001b[1;36m701\u001b[0m\u001b[37m, 'test_set': \u001b[0m\u001b[1;36m702\u001b[0m\u001b[1;37m}\u001b[0m                 \u001b]8;id=682554;file:///Users/lucanyckees/Desktop/my-repos/recommendation_system/src/nlp/classifier.py\u001b\\\u001b[2mclassifier.py\u001b[0m\u001b]8;;\u001b\\\u001b[2m:\u001b[0m\u001b]8;id=50631;file:///Users/lucanyckees/Desktop/my-repos/recommendation_system/src/nlp/classifier.py#92\u001b\\\u001b[2m92\u001b[0m\u001b]8;;\u001b\\\n"
      ]
     },
     "metadata": {},
     "output_type": "display_data"
    },
    {
     "name": "stderr",
     "output_type": "stream",
     "text": [
      "Some weights of DistilBertForSequenceClassification were not initialized from the model checkpoint at distilbert/distilbert-base-uncased and are newly initialized: ['classifier.bias', 'classifier.weight', 'pre_classifier.bias', 'pre_classifier.weight']\n",
      "You should probably TRAIN this model on a down-stream task to be able to use it for predictions and inference.\n"
     ]
    }
   ],
   "source": [
    "classifier = BERTClassifier(df=sub)"
   ]
  },
  {
   "cell_type": "code",
   "execution_count": 7,
   "metadata": {},
   "outputs": [],
   "source": [
    "# classifier.train()"
   ]
  },
  {
   "cell_type": "code",
   "execution_count": 8,
   "metadata": {},
   "outputs": [],
   "source": [
    "# classifier.evaluate()"
   ]
  },
  {
   "cell_type": "code",
   "execution_count": 9,
   "metadata": {},
   "outputs": [],
   "source": [
    "# classifier.predict()"
   ]
  },
  {
   "cell_type": "code",
   "execution_count": 11,
   "metadata": {},
   "outputs": [
    {
     "name": "stderr",
     "output_type": "stream",
     "text": [
      "model.safetensors: 100%|██████████| 268M/268M [00:26<00:00, 10.1MB/s] \n"
     ]
    }
   ],
   "source": [
    "classifier.push_to_hub()"
   ]
  },
  {
   "cell_type": "code",
   "execution_count": null,
   "metadata": {},
   "outputs": [],
   "source": []
  }
 ],
 "metadata": {
  "kernelspec": {
   "display_name": ".venv",
   "language": "python",
   "name": "python3"
  },
  "language_info": {
   "codemirror_mode": {
    "name": "ipython",
    "version": 3
   },
   "file_extension": ".py",
   "mimetype": "text/x-python",
   "name": "python",
   "nbconvert_exporter": "python",
   "pygments_lexer": "ipython3",
   "version": "3.11.7"
  }
 },
 "nbformat": 4,
 "nbformat_minor": 2
}
