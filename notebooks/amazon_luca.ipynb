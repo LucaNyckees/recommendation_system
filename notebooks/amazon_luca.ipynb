{
 "cells": [
  {
   "cell_type": "code",
   "execution_count": 23,
   "metadata": {},
   "outputs": [],
   "source": [
    "import json\n",
    "\n",
    "from pyspark.sql import SparkSession\n",
    "import spark\n",
    "from pyspark.sql.functions import col\n",
    "\n",
    "# Initialize Spark session\n",
    "spark = SparkSession.builder.appName(\"JSONL to PySpark DataFrame\").config(\"spark.sql.caseSensitive\", \"true\").getOrCreate()\n",
    "\n",
    "# Load the JSONL file into a PySpark DataFrame for reviews\n",
    "file_path = \"../data/All_Beauty.jsonl\"\n",
    "df_reviews = spark.read.json(file_path)\n",
    "\n",
    "# Load the JSONL file into a PySpark DataFrame for metadata\n",
    "file_path = \"../data/meta_All_Beauty.jsonl\"\n",
    "df_meta = spark.read.json(file_path)"
   ]
  },
  {
   "cell_type": "code",
   "execution_count": 24,
   "metadata": {},
   "outputs": [
    {
     "name": "stdout",
     "output_type": "stream",
     "text": [
      "+----------+------------+--------------------+-----------+------+--------------------+-------------+--------------------+--------------------+-----------------+\n",
      "|      asin|helpful_vote|              images|parent_asin|rating|                text|    timestamp|               title|             user_id|verified_purchase|\n",
      "+----------+------------+--------------------+-----------+------+--------------------+-------------+--------------------+--------------------+-----------------+\n",
      "|B00YQ6X8EO|           0|                  []| B00YQ6X8EO|   5.0|This spray is rea...|1588687728923|Such a lovely sce...|AGKHLEW2SOWHNMFQI...|             true|\n",
      "|B081TJ8YS3|           1|                  []| B081TJ8YS3|   4.0|This product does...|1588615855070|Works great but s...|AGKHLEW2SOWHNMFQI...|             true|\n",
      "|B07PNNCSP9|           2|                  []| B097R46CSY|   5.0|Smells good, feel...|1589665266052|                Yes!|AE74DYR3QUGVPZJ3P...|             true|\n",
      "|B09JS339BZ|           0|                  []| B09JS339BZ|   1.0|      Felt synthetic|1643393630220|   Synthetic feeling|AFQLNQNQYFWQZPJQZ...|             true|\n",
      "|B08BZ63GMJ|           0|                  []| B08BZ63GMJ|   5.0|             Love it|1609322563534|                  A+|AFQLNQNQYFWQZPJQZ...|             true|\n",
      "|B00R8DXL44|           0|[{IMAGE, https://...| B00R8DXL44|   4.0|The polish was qu...|1598567408138|        Pretty Color|AGMJ3EMDVL6OWBJF7...|             true|\n",
      "|B099DRHW5V|           0|                  []| B099DRHW5V|   5.0|Great for many ta...|1631885519443|               Handy|AHREXOGQPZDA6354M...|             true|\n",
      "|B088SZDGXG|           0|[{IMAGE, https://...| B08BBQ29N5|   3.0|These were lightw...|1634275259292|                 Meh|AEYORY2AVPMCPDV57...|             true|\n",
      "|B08P2DZB4X|           0|                  []| B08P2DZB4X|   5.0|This is perfect f...|1627391044559|Great for at home...|AFSKPY37N3C43SOI5...|            false|\n",
      "|B086QY6T7N|           0|                  []| B086QY6T7N|   5.0|I get Keratin tre...|1626614511145|Nice shampoo for ...|AFSKPY37N3C43SOI5...|            false|\n",
      "|B08DHTJ25J|           0|                  []| B08DHTJ25J|   3.0|I was very disapp...|1626211245370|Not what I though...|AFSKPY37N3C43SOI5...|            false|\n",
      "|B07RBSLNFR|           0|                  []| B07RBSLNFR|   5.0|This is a really ...|1621184430697|A little goes a l...|AFSKPY37N3C43SOI5...|            false|\n",
      "|B07SLFWZKN|           0|                  []| B07SLFWZKN|   3.0|I try to get Kera...|1619737501209|             Just ok|AFSKPY37N3C43SOI5...|            false|\n",
      "|B08JTNQFZY|           0|                  []| B08JTNQFZY|   5.0|Really nice small...|1617904219785|Good quality hair...|AFSKPY37N3C43SOI5...|            false|\n",
      "|B08GLG6W8T|           0|                  []| B08GLG6W8T|   5.0|I had never tried...|1613319236253|Great refreshing ...|AFSKPY37N3C43SOI5...|            false|\n",
      "|B08M3C6LVS|           0|                  []| B08M3C6LVS|   3.0|When I saw this, ...|1607339460872|Didn't do much an...|AFSKPY37N3C43SOI5...|            false|\n",
      "|B07GHPCT6T|           0|                  []| B07GHPCT6T|   5.0|This is a great h...|1598212476613|Quality hair iron...|AFSKPY37N3C43SOI5...|            false|\n",
      "|B07KG1TWP5|           0|                  []| B07KG1TWP5|   5.0|I really like the...|1596473351088|Great all natural...|AFSKPY37N3C43SOI5...|            false|\n",
      "|B07W397QG4|           1|                  []| B07W397QG4|   5.0|To be honest, I r...|1593352422858|Wonderful overnig...|AFSKPY37N3C43SOI5...|            false|\n",
      "|B07GDQPG12|           0|                  []| B07GDQPG12|   5.0|At first when I s...|1547589843451|  This really works!|AFSKPY37N3C43SOI5...|            false|\n",
      "+----------+------------+--------------------+-----------+------+--------------------+-------------+--------------------+--------------------+-----------------+\n",
      "only showing top 20 rows\n",
      "\n"
     ]
    }
   ],
   "source": [
    "df_reviews.show()"
   ]
  },
  {
   "cell_type": "code",
   "execution_count": 25,
   "metadata": {},
   "outputs": [
    {
     "name": "stdout",
     "output_type": "stream",
     "text": [
      "+--------------+---------------+----------+--------------------+--------------------+--------------------+--------------------+-------------+-----------+-----+-------------+--------------------+--------------------+------+\n",
      "|average_rating|bought_together|categories|         description|             details|            features|              images|main_category|parent_asin|price|rating_number|               store|               title|videos|\n",
      "+--------------+---------------+----------+--------------------+--------------------+--------------------+--------------------+-------------+-----------+-----+-------------+--------------------+--------------------+------+\n",
      "|           4.8|           NULL|        []|                  []|{NULL, NULL, NULL...|                  []|[{NULL, https://m...|   All Beauty| B01CUPMQZE| NULL|           10|     Howard Products|Howard LC0008 Lea...|    []|\n",
      "|           4.5|           NULL|        []|                  []|{NULL, NULL, NULL...|                  []|[{https://m.media...|   All Beauty| B076WQZGPM| NULL|            3|              Yes To|Yes to Tomatoes D...|    []|\n",
      "|           4.4|           NULL|        []|                  []|{NULL, NULL, NULL...|                  []|[{NULL, https://m...|   All Beauty| B000B658RI| NULL|           26|Levine Health Pro...|Eye Patch Black A...|    []|\n",
      "|           3.1|           NULL|        []|                  []|{NULL, NULL, NULL...|                  []|[{https://m.media...|   All Beauty| B088FKY3VD| NULL|          102|            Cherioll|Tattoo Eyebrow St...|    []|\n",
      "|           4.3|           NULL|        []|[The Precision Pl...|{NULL, NULL, NULL...|[Material: 304 St...|[{NULL, https://m...|   All Beauty| B07NGFDN6G| NULL|            7|           Precision|Precision Plunger...|    []|\n",
      "|           3.7|           NULL|        []|[Description, The...|{NULL, NULL, NULL...|[The false toenai...|[{https://m.media...|   All Beauty| B07G9GWFSM| 6.99|           35|             Lurrose|Lurrose 100Pcs Fu...|    []|\n",
      "|           4.1|           NULL|        []|                  []|{NULL, NULL, NULL...|                  []|[{https://m.media...|   All Beauty| B08XZ97HFY| NULL|           50|            Edoneery|Stain Bonnet For ...|    []|\n",
      "|           3.8|           NULL|        []|                  []|{NULL, NULL, NULL...|                  []|[{https://m.media...|   All Beauty| B08DNQTTQK| NULL|           32|              Maitys|50 Pieces False E...|    []|\n",
      "|           3.7|           NULL|        []|[Edt spray 3 oz d...|{NULL, NULL, NULL...|[Extatic Balmain ...|[{https://m.media...|   All Beauty| B01ERJEGS6|86.95|            2|             Balmain|Gold extatic Musk...|    []|\n",
      "|           4.3|           NULL|        []|                  []|{NULL, NULL, NULL...|                  []|[{https://m.media...|   All Beauty| B08P7LXKP7| NULL|           66|              Geyoga|4 Pieces Satin Bo...|    []|\n",
      "|           4.0|           NULL|        []|                  []|{NULL, NULL, NULL...|                  []|[{https://m.media...|   All Beauty| B01555WAOS| NULL|            7|                AVON|Avon Big & False ...|    []|\n",
      "|           4.1|           NULL|        []|                  []|{NULL, NULL, NULL...|                  []|[{https://m.media...|   All Beauty| B07GGYR3LJ| NULL|           15|              Brrnoo|Stainless Steel B...|    []|\n",
      "|           3.3|           NULL|        []|                  []|{NULL, NULL, NULL...|                  []|[{https://m.media...|   All Beauty| B06XJZ7955| 79.5|            4|                NULL|Brand New Headran...|    []|\n",
      "|           4.2|           NULL|        []|                  []|{NULL, NULL, NULL...|                  []|[{https://m.media...|   All Beauty| B07FVZVQKV| NULL|           22|            GETMORE7|Loose Powder, 1.5...|    []|\n",
      "|           3.0|           NULL|        []|[Description Smal...|{NULL, NULL, NULL...|[Package:OPP, Ste...|[{NULL, https://m...|   All Beauty| B00FCQHYEW| NULL|            6|              Buytra|Small MONEY CLIP ...|    []|\n",
      "|           4.2|           NULL|        []|               [new]|{NULL, NULL, NULL...|                  []|[{https://m.media...|   All Beauty| B07ZJW55Z5| NULL|            8|               Chloe|     Nomade By Chloe|    []|\n",
      "|           4.4|           NULL|        []|[This foaming pix...|{NULL, NULL, NULL...|[GENTLE ON THE SK...|[{https://m.media...|   All Beauty| B08X7JHQG5| 5.99|           52|          BioMiracle|BioMiracle StarDu...|    []|\n",
      "|           3.9|           NULL|        []|                  []|{NULL, NULL, NULL...|                  []|[{https://m.media...|   All Beauty| B07WFSQXL5| NULL|          114|                 PPY|PPY Eyelash Growt...|    []|\n",
      "|           3.6|           NULL|        []|                  []|{NULL, NULL, NULL...|                  []|[{https://m.media...|   All Beauty| B074SHN8YC| NULL|            3|             dingxiu|Dingxiu (5Packs,2...|    []|\n",
      "|           3.6|           NULL|        []|                  []|{NULL, NULL, NULL...|                  []|[{https://m.media...|   All Beauty| B07MH4Z7J7| NULL|           11|              Nadula|Nadula Hair 10A B...|    []|\n",
      "+--------------+---------------+----------+--------------------+--------------------+--------------------+--------------------+-------------+-----------+-----+-------------+--------------------+--------------------+------+\n",
      "only showing top 20 rows\n",
      "\n"
     ]
    }
   ],
   "source": [
    "df_meta.show()"
   ]
  },
  {
   "cell_type": "code",
   "execution_count": 26,
   "metadata": {},
   "outputs": [],
   "source": [
    "df = df_reviews.join(df_meta, on=[\"parent_asin\"], how=\"inner\")"
   ]
  },
  {
   "cell_type": "code",
   "execution_count": 27,
   "metadata": {},
   "outputs": [
    {
     "name": "stdout",
     "output_type": "stream",
     "text": [
      "+----+------------+------+-----------+------+----+---------+-----+-------+-----------------+\n",
      "|asin|helpful_vote|images|parent_asin|rating|text|timestamp|title|user_id|verified_purchase|\n",
      "+----+------------+------+-----------+------+----+---------+-----+-------+-----------------+\n",
      "+----+------------+------+-----------+------+----+---------+-----+-------+-----------------+\n",
      "\n"
     ]
    }
   ],
   "source": [
    "df_reviews.filter(col(\"user_id\").isNull()).show()"
   ]
  },
  {
   "cell_type": "code",
   "execution_count": 28,
   "metadata": {},
   "outputs": [
    {
     "data": {
      "text/plain": [
       "['parent_asin',\n",
       " 'asin',\n",
       " 'helpful_vote',\n",
       " 'images',\n",
       " 'rating',\n",
       " 'text',\n",
       " 'timestamp',\n",
       " 'title',\n",
       " 'user_id',\n",
       " 'verified_purchase',\n",
       " 'average_rating',\n",
       " 'bought_together',\n",
       " 'categories',\n",
       " 'description',\n",
       " 'details',\n",
       " 'features',\n",
       " 'images',\n",
       " 'main_category',\n",
       " 'price',\n",
       " 'rating_number',\n",
       " 'store',\n",
       " 'title',\n",
       " 'videos']"
      ]
     },
     "execution_count": 28,
     "metadata": {},
     "output_type": "execute_result"
    }
   ],
   "source": [
    "df.columns"
   ]
  },
  {
   "cell_type": "code",
   "execution_count": null,
   "metadata": {},
   "outputs": [],
   "source": []
  }
 ],
 "metadata": {
  "kernelspec": {
   "display_name": "venv",
   "language": "python",
   "name": "python3"
  },
  "language_info": {
   "codemirror_mode": {
    "name": "ipython",
    "version": 3
   },
   "file_extension": ".py",
   "mimetype": "text/x-python",
   "name": "python",
   "nbconvert_exporter": "python",
   "pygments_lexer": "ipython3",
   "version": "3.11.7"
  }
 },
 "nbformat": 4,
 "nbformat_minor": 2
}
